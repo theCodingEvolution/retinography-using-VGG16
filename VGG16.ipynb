{
  "nbformat": 4,
  "nbformat_minor": 0,
  "metadata": {
    "colab": {
      "provenance": [],
      "gpuType": "T4",
      "mount_file_id": "1nhDwy4Ef7YxIybl9K-aLknCXz3nWSCNZ",
      "authorship_tag": "ABX9TyOV796HW52Xnpfb3PG5t6zW",
      "include_colab_link": true
    },
    "kernelspec": {
      "name": "python3",
      "display_name": "Python 3"
    },
    "language_info": {
      "name": "python"
    },
    "accelerator": "GPU"
  },
  "cells": [
    {
      "cell_type": "markdown",
      "metadata": {
        "id": "view-in-github",
        "colab_type": "text"
      },
      "source": [
        "<a href=\"https://colab.research.google.com/github/theCodingEvolution/retinography-using-VGG16/blob/master/VGG16.ipynb\" target=\"_parent\"><img src=\"https://colab.research.google.com/assets/colab-badge.svg\" alt=\"Open In Colab\"/></a>"
      ]
    },
    {
      "cell_type": "code",
      "execution_count": 1,
      "metadata": {
        "id": "KLlHzcqWeakU"
      },
      "outputs": [],
      "source": [
        "from keras.layers import Input,Lambda,Dense, Flatten\n",
        "from keras.models import Model\n",
        "from keras.applications.vgg16 import VGG16\n",
        "\n",
        "from keras.applications.vgg16 import preprocess_input\n",
        "from keras.preprocessing import image\n",
        "from keras.preprocessing.image import ImageDataGenerator\n",
        "from keras.models import Sequential\n",
        "import numpy as np\n",
        "from glob import glob\n",
        "import matplotlib.pyplot as plt"
      ]
    },
    {
      "cell_type": "code",
      "source": [
        "#resize all the image to this (For VGG16)\n",
        "IMAGE_SIZE= [224,224]"
      ],
      "metadata": {
        "id": "tEKyI3Ffe5iH"
      },
      "execution_count": 2,
      "outputs": []
    },
    {
      "cell_type": "code",
      "source": [
        "#resize all the image to this (For VGG16)\n",
        "IMAGE_SIZE= [224,224]"
      ],
      "metadata": {
        "id": "UsyeEZ21e86g"
      },
      "execution_count": 3,
      "outputs": []
    },
    {
      "cell_type": "code",
      "source": [
        "# ADDING preprocessing layer to thr frony of VGG_16\n",
        "vgg=VGG16(input_shape=IMAGE_SIZE + [3],weights=\"imagenet\",include_top=False)"
      ],
      "metadata": {
        "colab": {
          "base_uri": "https://localhost:8080/"
        },
        "id": "0-9nfp00e-0J",
        "outputId": "0cfb5b5a-4428-41d5-d78a-171b544247d5"
      },
      "execution_count": 4,
      "outputs": [
        {
          "output_type": "stream",
          "name": "stdout",
          "text": [
            "Downloading data from https://storage.googleapis.com/tensorflow/keras-applications/vgg16/vgg16_weights_tf_dim_ordering_tf_kernels_notop.h5\n",
            "58889256/58889256 [==============================] - 0s 0us/step\n"
          ]
        }
      ]
    },
    {
      "cell_type": "code",
      "source": [
        "# DONT train existing weights\n",
        "for layer in vgg.layers:\n",
        "    layer.trainable= False\n"
      ],
      "metadata": {
        "id": "EKKQAeCMfZ2l"
      },
      "execution_count": 5,
      "outputs": []
    },
    {
      "cell_type": "code",
      "source": [
        "# usefull for getting number if classes\n",
        "folders=glob('/content/drive/MyDrive/Datasets(Retinography)/Train/*') \n",
        "print(folders)\n",
        "test_folder=glob('/content/drive/MyDrive/Datasets(Retinography)/Test/*')\n",
        "print(test_folder)"
      ],
      "metadata": {
        "colab": {
          "base_uri": "https://localhost:8080/"
        },
        "id": "x3Wg4l0Dfa3P",
        "outputId": "6d2e788b-6962-4f78-932a-42ed8e1051b7"
      },
      "execution_count": 6,
      "outputs": [
        {
          "output_type": "stream",
          "name": "stdout",
          "text": [
            "['/content/drive/MyDrive/Datasets(Retinography)/Train/_NoDR', '/content/drive/MyDrive/Datasets(Retinography)/Train/DR']\n",
            "['/content/drive/MyDrive/Datasets(Retinography)/Test/_NoDR', '/content/drive/MyDrive/Datasets(Retinography)/Test/DR']\n"
          ]
        }
      ]
    },
    {
      "cell_type": "code",
      "source": [
        "x=Flatten()(vgg.output)\n",
        "#x=Dense(1000,activstion='relu'),(x)\n",
        "prediction=Dense(len(folders), activation='softmax')(x)"
      ],
      "metadata": {
        "id": "I73dO6S9fcQ2"
      },
      "execution_count": 7,
      "outputs": []
    },
    {
      "cell_type": "code",
      "source": [
        "# create a model object\n",
        "model=Model(inputs=vgg.input, outputs=prediction)\n",
        "\n",
        "# model summery\n",
        "model.summary()"
      ],
      "metadata": {
        "colab": {
          "base_uri": "https://localhost:8080/"
        },
        "id": "6_olL-HLfcOK",
        "outputId": "f9d35d4f-8164-48c2-cf75-2551af4a0f85"
      },
      "execution_count": 8,
      "outputs": [
        {
          "output_type": "stream",
          "name": "stdout",
          "text": [
            "Model: \"model\"\n",
            "_________________________________________________________________\n",
            " Layer (type)                Output Shape              Param #   \n",
            "=================================================================\n",
            " input_1 (InputLayer)        [(None, 224, 224, 3)]     0         \n",
            "                                                                 \n",
            " block1_conv1 (Conv2D)       (None, 224, 224, 64)      1792      \n",
            "                                                                 \n",
            " block1_conv2 (Conv2D)       (None, 224, 224, 64)      36928     \n",
            "                                                                 \n",
            " block1_pool (MaxPooling2D)  (None, 112, 112, 64)      0         \n",
            "                                                                 \n",
            " block2_conv1 (Conv2D)       (None, 112, 112, 128)     73856     \n",
            "                                                                 \n",
            " block2_conv2 (Conv2D)       (None, 112, 112, 128)     147584    \n",
            "                                                                 \n",
            " block2_pool (MaxPooling2D)  (None, 56, 56, 128)       0         \n",
            "                                                                 \n",
            " block3_conv1 (Conv2D)       (None, 56, 56, 256)       295168    \n",
            "                                                                 \n",
            " block3_conv2 (Conv2D)       (None, 56, 56, 256)       590080    \n",
            "                                                                 \n",
            " block3_conv3 (Conv2D)       (None, 56, 56, 256)       590080    \n",
            "                                                                 \n",
            " block3_pool (MaxPooling2D)  (None, 28, 28, 256)       0         \n",
            "                                                                 \n",
            " block4_conv1 (Conv2D)       (None, 28, 28, 512)       1180160   \n",
            "                                                                 \n",
            " block4_conv2 (Conv2D)       (None, 28, 28, 512)       2359808   \n",
            "                                                                 \n",
            " block4_conv3 (Conv2D)       (None, 28, 28, 512)       2359808   \n",
            "                                                                 \n",
            " block4_pool (MaxPooling2D)  (None, 14, 14, 512)       0         \n",
            "                                                                 \n",
            " block5_conv1 (Conv2D)       (None, 14, 14, 512)       2359808   \n",
            "                                                                 \n",
            " block5_conv2 (Conv2D)       (None, 14, 14, 512)       2359808   \n",
            "                                                                 \n",
            " block5_conv3 (Conv2D)       (None, 14, 14, 512)       2359808   \n",
            "                                                                 \n",
            " block5_pool (MaxPooling2D)  (None, 7, 7, 512)         0         \n",
            "                                                                 \n",
            " flatten (Flatten)           (None, 25088)             0         \n",
            "                                                                 \n",
            " dense (Dense)               (None, 2)                 50178     \n",
            "                                                                 \n",
            "=================================================================\n",
            "Total params: 14,764,866\n",
            "Trainable params: 50,178\n",
            "Non-trainable params: 14,714,688\n",
            "_________________________________________________________________\n"
          ]
        }
      ]
    },
    {
      "cell_type": "code",
      "source": [
        "#cost and optimization functions for the model\n",
        "model.compile(loss='categorical_crossentropy',\n",
        "              optimizer='adam',\n",
        "              metrics=['accuracy']\n",
        "              )\n"
      ],
      "metadata": {
        "id": "7_BWa5LbfcLp"
      },
      "execution_count": 9,
      "outputs": []
    },
    {
      "cell_type": "code",
      "source": [
        "train_datagen=ImageDataGenerator(rescale=1./255,\n",
        "                                 shear_range=0.2,\n",
        "                                 zoom_range=0.2,\n",
        "                                 horizontal_flip=True)\n",
        "test_datagen=ImageDataGenerator(rescale=1./255)"
      ],
      "metadata": {
        "id": "Ixcyqu_ifcEQ"
      },
      "execution_count": 10,
      "outputs": []
    },
    {
      "cell_type": "code",
      "source": [
        "training_set=train_datagen.flow_from_directory('/content/drive/MyDrive/Datasets(Retinography)/Train',\n",
        "                                               target_size= (224,224),\n",
        "                                               batch_size= 64,\n",
        "                                               class_mode='categorical')\n",
        "val_set=test_datagen.flow_from_directory('/content/drive/MyDrive/Datasets(Retinography)/Val',\n",
        "                                           target_size=(224,224),\n",
        "                                           batch_size=64,\n",
        "                                           class_mode= 'categorical')"
      ],
      "metadata": {
        "colab": {
          "base_uri": "https://localhost:8080/"
        },
        "id": "Z_gyEdzjfcBc",
        "outputId": "73742103-2546-430d-cd7d-5a9e3b91e92e"
      },
      "execution_count": 11,
      "outputs": [
        {
          "output_type": "stream",
          "name": "stdout",
          "text": [
            "Found 3424 images belonging to 2 classes.\n",
            "Found 1426 images belonging to 2 classes.\n"
          ]
        }
      ]
    },
    {
      "cell_type": "markdown",
      "source": [
        "# FIT THE  MODEL"
      ],
      "metadata": {
        "id": "0E_eVeD2gLYn"
      }
    },
    {
      "cell_type": "code",
      "source": [
        "r= model.fit(\n",
        "    training_set,validation_data=val_set,\n",
        "    epochs=5,\n",
        "    steps_per_epoch=len(training_set),\n",
        "    validation_steps=len(val_set)\n",
        ")"
      ],
      "metadata": {
        "colab": {
          "base_uri": "https://localhost:8080/"
        },
        "id": "fNnGovW0fbtD",
        "outputId": "fcc16f2f-1c77-4f88-f24e-57361e82b1d6"
      },
      "execution_count": null,
      "outputs": [
        {
          "output_type": "stream",
          "name": "stdout",
          "text": [
            "Epoch 1/5\n",
            "54/54 [==============================] - ETA: 0s - loss: 0.4303 - accuracy: 0.8586 "
          ]
        }
      ]
    },
    {
      "cell_type": "code",
      "source": [
        "#loss\n",
        "plt.plot(r.history['loss'], label='train_loss')\n",
        "plt.plot(r.history['val_loss'], label='val_loss')\n",
        "plt.legend()\n",
        "plt.show()\n",
        "plt.savefig('AccVal_loss')"
      ],
      "metadata": {
        "id": "PhGHLGFPfbqi"
      },
      "execution_count": null,
      "outputs": []
    },
    {
      "cell_type": "code",
      "source": [
        "test_datagen=ImageDataGenerator(rescale=1./255)\n",
        "test_set = test_datagen.flow_from_directory(\n",
        "    '/content/drive/MyDrive/Datasets(Retinography)/Test',\n",
        "    target_size=(224, 224),\n",
        "    batch_size=64,\n",
        "    class_mode='categorical'\n",
        ")"
      ],
      "metadata": {
        "id": "sZ_RG4Heghgi"
      },
      "execution_count": null,
      "outputs": []
    },
    {
      "cell_type": "code",
      "source": [
        "model.evaluate(test_set)"
      ],
      "metadata": {
        "id": "RN2s5AHKgmGg"
      },
      "execution_count": null,
      "outputs": []
    }
  ]
}